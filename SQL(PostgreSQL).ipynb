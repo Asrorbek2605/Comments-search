{
  "cells": [
    {
      "cell_type": "markdown",
      "metadata": {
        "id": "view-in-github",
        "colab_type": "text"
      },
      "source": [
        "<a href=\"https://colab.research.google.com/github/Asrorbek2605/Comments-search/blob/main/SQL(PostgreSQL).ipynb\" target=\"_parent\"><img src=\"https://colab.research.google.com/assets/colab-badge.svg\" alt=\"Open In Colab\"/></a>"
      ]
    },
    {
      "cell_type": "code",
      "execution_count": null,
      "metadata": {
        "id": "mVcuAqiJm7UQ"
      },
      "outputs": [],
      "source": [
        "# !pip install psycopg2-binary\n",
        "# import psycopg2 as psql\n",
        "import pandas as pd\n",
        "import sqlite3 as sql\n",
        "from pprint import pprint as print"
      ]
    },
    {
      "cell_type": "code",
      "execution_count": null,
      "metadata": {
        "id": "9Vv4wq0BnK3N"
      },
      "outputs": [],
      "source": [
        "\n",
        "# pdb = psql.connect(\n",
        "#      host = \"localhost\",\n",
        "#      database = \"postgres\",\n",
        "#      user = \"postgres\",\n",
        "#     password = \"mohirdev\"\n",
        "#\n",
        "# cursor = pdb.cursor()\n",
        "# cursor.execute(\"SELECT version()\")\n",
        "# print(cursor.fetchone())"
      ]
    },
    {
      "cell_type": "code",
      "execution_count": null,
      "metadata": {
        "colab": {
          "background_save": true,
          "base_uri": "https://localhost:8080/"
        },
        "id": "Q9mMeMmnnXSY",
        "outputId": "ba916f00-36ac-4f98-ac2d-37e57c844e12"
      },
      "outputs": [
        {
          "name": "stdout",
          "output_type": "stream",
          "text": [
            "--2023-12-17 07:26:44--  https://www.sqlitetutorial.net/wp-content/uploads/2018/03/chinook.zip\n",
            "Resolving www.sqlitetutorial.net (www.sqlitetutorial.net)... 104.21.30.141, 172.67.172.250, 2606:4700:3037::6815:1e8d, ...\n",
            "Connecting to www.sqlitetutorial.net (www.sqlitetutorial.net)|104.21.30.141|:443... connected.\n",
            "HTTP request sent, awaiting response... 200 OK\n",
            "Length: 305596 (298K) [application/zip]\n",
            "Saving to: ‘chinook.zip’\n",
            "\n",
            "\rchinook.zip           0%[                    ]       0  --.-KB/s               \rchinook.zip         100%[===================>] 298.43K  --.-KB/s    in 0.03s   \n",
            "\n",
            "2023-12-17 07:26:44 (9.24 MB/s) - ‘chinook.zip’ saved [305596/305596]\n",
            "\n",
            "Archive:  chinook.zip\n",
            "replace chinook.db? [y]es, [n]o, [A]ll, [N]one, [r]ename: "
          ]
        }
      ],
      "source": [
        "!wget \"https://www.sqlitetutorial.net/wp-content/uploads/2018/03/chinook.zip\"\n",
        "!unzip \"chinook.zip\""
      ]
    },
    {
      "cell_type": "code",
      "execution_count": null,
      "metadata": {
        "id": "5BQEZaZ5n5Hy"
      },
      "outputs": [],
      "source": [
        "db =sql.connect(\"chinook.db\")\n",
        "cursor = db.cursor()"
      ]
    },
    {
      "cell_type": "code",
      "execution_count": null,
      "metadata": {
        "colab": {
          "base_uri": "https://localhost:8080/"
        },
        "id": "QGnM7KqAoj4b",
        "outputId": "642c10d2-be4e-442e-b349-cc1a9638aa73"
      },
      "outputs": [
        {
          "name": "stdout",
          "output_type": "stream",
          "text": [
            "[]\n"
          ]
        }
      ],
      "source": [
        "cursor.execute(\"SELECT name FROM sqlite_master  WHERE type = 'table' \")\n",
        "print(cursor.fetchall())"
      ]
    },
    {
      "cell_type": "code",
      "execution_count": null,
      "metadata": {
        "id": "kjQOCThbqFCF"
      },
      "outputs": [],
      "source": []
    }
  ],
  "metadata": {
    "colab": {
      "provenance": [],
      "authorship_tag": "ABX9TyP4qV1N8vt4/UowJ2s+vbVs",
      "include_colab_link": true
    },
    "kernelspec": {
      "display_name": "Python 3",
      "name": "python3"
    },
    "language_info": {
      "name": "python"
    }
  },
  "nbformat": 4,
  "nbformat_minor": 0
}